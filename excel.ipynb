{
 "cells": [
  {
   "cell_type": "code",
   "execution_count": null,
   "metadata": {},
   "outputs": [],
   "source": [
    "from win32com.client import Dispatch\n",
    "\n",
    "x1 = Dispatch(\"Excel.Application\")\n",
    "\n",
    "x1.Range(\"A1\").Range"
   ]
  },
  {
   "cell_type": "code",
   "execution_count": null,
   "metadata": {},
   "outputs": [],
   "source": [
    "import openpyxl \n",
    "book = openpyxl.load_workbook(r'c:\\Users\\nicol\\Dropbox\\Books\\Reading Log.xlsx')\n",
    "sheet = book[\"2022 Data\"]\n",
    "print(sheet[\"B2\"].value)\n",
    "sheet[\"B25\"] = \"Test Title\"\n",
    "book.save((r'c:\\Users\\nicol\\Dropbox\\Books\\Reading Log.xlsx'))\n"
   ]
  },
  {
   "cell_type": "code",
   "execution_count": null,
   "metadata": {},
   "outputs": [],
   "source": [
    "import openpyxl\n",
    "\n",
    "book = openpyxl.load_workbook(r'c:\\Users\\nicol\\Dropbox\\Books\\Reading Log.xlsx')\n",
    "sheet = book[\"2022 Data\"]\n",
    "\n",
    "# print(sheet[\"A1\"])\n",
    "# print(sheet[\"A1\"].value)\n",
    "\n",
    "# sheet[\"B25\"] = \"Test Title\"\n",
    "\n",
    "book.save(r'c:\\Users\\nicol\\Dropbox\\Books\\Reading Log.xlsx')"
   ]
  },
  {
   "cell_type": "code",
   "execution_count": null,
   "metadata": {},
   "outputs": [],
   "source": [
    "import openpyxl\n",
    "\n",
    "book = openpyxl.load_workbook(r'c:\\Users\\nicol\\Dropbox\\Books\\Reading Log.xlsx')\n",
    "sheet = book[\"2022 Data\"]\n",
    "\n",
    "for row in sheet.iter_rows(min_row = 1, max_row = 5, min_col = 1, max_col = 5, values_only = \"True\"):\n",
    "    print(row)"
   ]
  },
  {
   "cell_type": "code",
   "execution_count": null,
   "metadata": {},
   "outputs": [],
   "source": [
    "import pandas as pd\n",
    "\n",
    "df = pd.read_excel(r'c:\\Users\\nicol\\Dropbox\\Books\\Reading Log.xlsx', engine = \"openpyxl\")\n",
    "\n",
    "# results = df.columns\n",
    "# results = df.iloc[:10, 0:3]\n",
    "\n",
    "# results = df[df[\"Gender\"].str.match(\"F\", na=False)]\n",
    "# results = df[df[\"Genre\"].str.contains(\"Memoir\", na=False)]\n",
    "\n",
    "# print(results)\n",
    "\n",
    "# results = df.groupby(\"Genre\")\n",
    "# print(results.get_group(\"Memoir\").mean())\n",
    "\n",
    "results = df.groupby(\"Gender\")\n",
    "print(results.get_group(\"M\").mean())\n"
   ]
  },
  {
   "cell_type": "code",
   "execution_count": 27,
   "metadata": {},
   "outputs": [
    {
     "data": {
      "text/plain": [
       "<bound method Book.close of <Book [Reading Log.xlsx]>>"
      ]
     },
     "execution_count": 27,
     "metadata": {},
     "output_type": "execute_result"
    }
   ],
   "source": [
    "import xlwings as xw\n",
    "import pandas as pd\n",
    "\n",
    "# This version doesn't work for some reason:\n",
    "# wk = xw.books.open(r'c:\\Users\\nicol\\Dropbox\\Books\\Reading Log.xlsx')\n",
    "wk = xw.Book(r'c:\\Users\\nicol\\Dropbox\\Books\\Reading Log.xlsx')\n",
    "\n",
    "sheet = wk.sheets(\"2022 Data\")\n",
    "rg = sheet.range(\"B1:D4\")\n",
    "\n",
    "# sheet.range(\"B26\").value = \"test title 2\"\n",
    "df = sheet.range(\"A1:E15\").options(pd.DataFrame).value\n",
    "\n",
    "# print(rg.value)\n",
    "# print(df)\n",
    "\n",
    "# This will save the df in a new spreadsheet\n",
    "xw.view(df)\n",
    "wk.close"
   ]
  }
 ],
 "metadata": {
  "kernelspec": {
   "display_name": "Python 3.8.5 ('base')",
   "language": "python",
   "name": "python3"
  },
  "language_info": {
   "codemirror_mode": {
    "name": "ipython",
    "version": 3
   },
   "file_extension": ".py",
   "mimetype": "text/x-python",
   "name": "python",
   "nbconvert_exporter": "python",
   "pygments_lexer": "ipython3",
   "version": "3.8.5"
  },
  "orig_nbformat": 4,
  "vscode": {
   "interpreter": {
    "hash": "07878c45a9b18549480ac2f9ecb8f16bb7162456cf654f6757bcff1d6396abe7"
   }
  }
 },
 "nbformat": 4,
 "nbformat_minor": 2
}
